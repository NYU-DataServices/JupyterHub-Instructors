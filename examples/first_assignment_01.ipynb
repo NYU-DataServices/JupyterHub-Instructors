{
 "cells": [
  {
   "cell_type": "markdown",
   "id": "e25f8009",
   "metadata": {
    "nbgrader": {
     "grade": false,
     "grade_id": "Heading",
     "locked": true,
     "schema_version": 3,
     "solution": false,
     "task": false
    }
   },
   "source": [
    "# Part A"
   ]
  },
  {
   "cell_type": "markdown",
   "id": "d5e54d69",
   "metadata": {
    "nbgrader": {
     "grade": false,
     "grade_id": "Read_only",
     "locked": true,
     "schema_version": 3,
     "solution": false,
     "task": false
    }
   },
   "source": [
    "This cell is meant to be read-only. Students won't be able to edit this."
   ]
  },
  {
   "cell_type": "markdown",
   "id": "ac31bf46",
   "metadata": {
    "nbgrader": {
     "grade": false,
     "grade_id": "Question_Manual_Graded",
     "locked": true,
     "schema_version": 3,
     "solution": false,
     "task": false
    }
   },
   "source": [
    "Answer the following questions?\n",
    "What is your name and net id? "
   ]
  },
  {
   "cell_type": "markdown",
   "id": "780e85ea",
   "metadata": {
    "nbgrader": {
     "grade": true,
     "grade_id": "Manual_graded_cell",
     "locked": false,
     "points": 1,
     "schema_version": 3,
     "solution": true,
     "task": false
    }
   },
   "source": []
  },
  {
   "cell_type": "markdown",
   "id": "a4204b6e",
   "metadata": {
    "nbgrader": {
     "grade": false,
     "grade_id": "Question_auto_graded",
     "locked": true,
     "schema_version": 3,
     "solution": false,
     "task": false
    }
   },
   "source": [
    "Fix the following code to return a list of odd numbers until a given number n. Type cast the given number to int, if it is a float. Don't miss to handle corner cases."
   ]
  },
  {
   "cell_type": "code",
   "execution_count": 3,
   "id": "6ca912e3",
   "metadata": {
    "nbgrader": {
     "grade": false,
     "grade_id": "Auto_graded_cell",
     "locked": false,
     "schema_version": 3,
     "solution": true,
     "task": false
    }
   },
   "outputs": [],
   "source": [
    "def odd_number_generator(n):\n",
    "    odd_numbers_list = []\n",
    "    ### BEGIN SOLUTION\n",
    "    if type(n) not in [int, float]:\n",
    "        return odd_numbers_list\n",
    "    else:\n",
    "        for number in range(1, int(n)+1):\n",
    "            if number%2 == 1:\n",
    "                odd_numbers_list.append(number)\n",
    "    ### END SOLUTION\n",
    "    return odd_numbers_list"
   ]
  },
  {
   "cell_type": "code",
   "execution_count": 5,
   "id": "c3e92c0c",
   "metadata": {
    "nbgrader": {
     "grade": true,
     "grade_id": "Assert_Statements",
     "locked": true,
     "points": 3,
     "schema_version": 3,
     "solution": false,
     "task": false
    }
   },
   "outputs": [],
   "source": [
    "assert odd_number_generator(5) == [1, 3, 5]\n",
    "assert odd_number_generator(\"I\") == []\n",
    "assert odd_number_generator(False) == []"
   ]
  },
  {
   "cell_type": "markdown",
   "id": "b93d2531",
   "metadata": {
    "nbgrader": {
     "grade": false,
     "grade_id": "Manual_graded_task",
     "locked": true,
     "schema_version": 3,
     "solution": false,
     "task": false
    }
   },
   "source": [
    "Write a pseudo-code to reverse a given number n:\n",
    "Make sure to handle corner cases"
   ]
  },
  {
   "cell_type": "markdown",
   "id": "e358378d",
   "metadata": {
    "nbgrader": {
     "grade": false,
     "grade_id": "Manual_graded",
     "locked": true,
     "points": 5,
     "schema_version": 3,
     "solution": false,
     "task": true
    }
   },
   "source": []
  }
 ],
 "metadata": {
  "celltoolbar": "Create Assignment",
  "kernelspec": {
   "display_name": "Python 3 (ipykernel)",
   "language": "python",
   "name": "python3"
  },
  "language_info": {
   "codemirror_mode": {
    "name": "ipython",
    "version": 3
   },
   "file_extension": ".py",
   "mimetype": "text/x-python",
   "name": "python",
   "nbconvert_exporter": "python",
   "pygments_lexer": "ipython3",
   "version": "3.10.6"
  }
 },
 "nbformat": 4,
 "nbformat_minor": 5
}
